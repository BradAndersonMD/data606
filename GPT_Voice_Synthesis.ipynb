{
 "cells": [
  {
   "cell_type": "code",
   "execution_count": null,
   "id": "d54f2044",
   "metadata": {
    "scrolled": true
   },
   "outputs": [],
   "source": [
    "!pip install -q gpt-2-simple\n",
    "!pip install tensorflow-gpu==1.15"
   ]
  },
  {
   "cell_type": "code",
   "execution_count": 1,
   "id": "3662cc95",
   "metadata": {
    "scrolled": true
   },
   "outputs": [
    {
     "name": "stdout",
     "output_type": "stream",
     "text": [
      "WARNING:tensorflow:\n",
      "The TensorFlow contrib module will not be included in TensorFlow 2.0.\n",
      "For more information, please see:\n",
      "  * https://github.com/tensorflow/community/blob/master/rfcs/20180907-contrib-sunset.md\n",
      "  * https://github.com/tensorflow/addons\n",
      "  * https://github.com/tensorflow/io (for I/O related ops)\n",
      "If you depend on functionality not listed there, please file an issue.\n",
      "\n"
     ]
    }
   ],
   "source": [
    "import gpt_2_simple as gpt2\n",
    "import os\n",
    "from os import path\n",
    "from datetime import datetime"
   ]
  },
  {
   "cell_type": "code",
   "execution_count": 2,
   "id": "9c302aeb",
   "metadata": {},
   "outputs": [
    {
     "name": "stdout",
     "output_type": "stream",
     "text": [
      "Loading checkpoint checkpoint\\run1\\model-5000\n",
      "INFO:tensorflow:Restoring parameters from checkpoint\\run1\\model-5000\n",
      "WARNING:tensorflow:From D:\\ProgramData\\Anaconda3\\envs\\python37\\lib\\site-packages\\gpt_2_simple\\src\\sample.py:32: where (from tensorflow.python.ops.array_ops) is deprecated and will be removed in a future version.\n",
      "Instructions for updating:\n",
      "Use tf.where in 2.0, which has the same broadcast rule as np.where\n"
     ]
    }
   ],
   "source": [
    "gpt2_model_dir = os.getcwd() + '\\\\models\\\\355M'\n",
    "file_name = os.getcwd() + \"\\\\data\\\\final_transcript.txt\"\n",
    "# if this is the first time train and run your model\n",
    "if not path.exists(gpt2_model_dir):\n",
    "    gpt2.download_gpt2(model_name=\"355M\")\n",
    "    sess = gpt2.start_tf_sess()\n",
    "    gpt2.finetune(sess,\n",
    "              dataset=file_name,\n",
    "              model_name='355M',\n",
    "              steps=5000,\n",
    "              restore_from='fresh',\n",
    "              run_name='run1',\n",
    "              save_every=500)\n",
    "    text = gpt2.generate(sess, run_name=\"run1\", return_as_list=True, ength=15, top_p=.9, nsamples=10,batch_size=10)\n",
    "else:\n",
    "    sess = gpt2.start_tf_sess()\n",
    "    gpt2.load_gpt2(sess)\n",
    "    text = gpt2.generate(sess, return_as_list=True, length=15, top_p=.9, nsamples=10, batch_size=10)\n",
    "\n",
    "with open(\"data\\\\fake_transcript.txt\", \"w\") as file:\n",
    "    for line in text:\n",
    "        file.write(line + '\\n')"
   ]
  },
  {
   "cell_type": "code",
   "execution_count": null,
   "id": "805ceae5",
   "metadata": {},
   "outputs": [],
   "source": []
  }
 ],
 "metadata": {
  "kernelspec": {
   "display_name": "Python 3",
   "language": "python",
   "name": "python3"
  },
  "language_info": {
   "codemirror_mode": {
    "name": "ipython",
    "version": 3
   },
   "file_extension": ".py",
   "mimetype": "text/x-python",
   "name": "python",
   "nbconvert_exporter": "python",
   "pygments_lexer": "ipython3",
   "version": "3.7.10"
  }
 },
 "nbformat": 4,
 "nbformat_minor": 5
}
